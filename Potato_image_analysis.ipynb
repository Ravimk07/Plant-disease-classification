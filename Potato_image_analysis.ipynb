{
  "nbformat": 4,
  "nbformat_minor": 0,
  "metadata": {
    "colab": {
      "name": "Potato_image_analysis.ipynb",
      "version": "0.3.2",
      "provenance": [],
      "collapsed_sections": [],
      "include_colab_link": true
    },
    "kernelspec": {
      "name": "python3",
      "display_name": "Python 3"
    },
    "accelerator": "GPU"
  },
  "cells": [
    {
      "cell_type": "markdown",
      "metadata": {
        "id": "view-in-github",
        "colab_type": "text"
      },
      "source": [
        "<a href=\"https://colab.research.google.com/github/Ravimk07/Plant-disease-classification/blob/master/Potato_image_analysis.ipynb\" target=\"_parent\"><img src=\"https://colab.research.google.com/assets/colab-badge.svg\" alt=\"Open In Colab\"/></a>"
      ]
    },
    {
      "metadata": {
        "id": "8gVKWUoP_huA",
        "colab_type": "code",
        "colab": {
          "base_uri": "https://localhost:8080/",
          "height": 34
        },
        "outputId": "80eb3e87-f1f6-45f0-9e5c-524750d7161b"
      },
      "cell_type": "code",
      "source": [
        "import os\n",
        "os.getcwd()\n",
        "os.listdir(os.getcwd())\n",
        "os.chdir('/content')\n",
        "os.getcwd()"
      ],
      "execution_count": 5,
      "outputs": [
        {
          "output_type": "execute_result",
          "data": {
            "text/plain": [
              "'/content'"
            ]
          },
          "metadata": {
            "tags": []
          },
          "execution_count": 5
        }
      ]
    },
    {
      "metadata": {
        "id": "m18DqkmqPOD_",
        "colab_type": "code",
        "colab": {
          "resources": {
            "http://localhost:8080/nbextensions/google.colab/files.js": {
              "data": "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",
              "ok": true,
              "headers": [
                [
                  "content-type",
                  "application/javascript"
                ]
              ],
              "status": 200,
              "status_text": ""
            }
          },
          "base_uri": "https://localhost:8080/",
          "height": 74
        },
        "outputId": "73226903-0728-4f3d-b4a1-50e9b1bf9c6b"
      },
      "cell_type": "code",
      "source": [
        "from google.colab import files\n",
        "uploaded = files.upload()"
      ],
      "execution_count": 19,
      "outputs": [
        {
          "output_type": "display_data",
          "data": {
            "text/html": [
              "\n",
              "     <input type=\"file\" id=\"files-ddcee301-1068-432b-bf46-aba62462ba8c\" name=\"files[]\" multiple disabled />\n",
              "     <output id=\"result-ddcee301-1068-432b-bf46-aba62462ba8c\">\n",
              "      Upload widget is only available when the cell has been executed in the\n",
              "      current browser session. Please rerun this cell to enable.\n",
              "      </output>\n",
              "      <script src=\"/nbextensions/google.colab/files.js\"></script> "
            ],
            "text/plain": [
              "<IPython.core.display.HTML object>"
            ]
          },
          "metadata": {
            "tags": []
          }
        },
        {
          "output_type": "stream",
          "text": [
            "Saving Potato_crop.zip to Potato_crop.zip\n"
          ],
          "name": "stdout"
        }
      ]
    },
    {
      "metadata": {
        "id": "n-SL2FfPRBQc",
        "colab_type": "code",
        "colab": {}
      },
      "cell_type": "code",
      "source": [
        "# This is for extracting the files\n",
        "import zipfile\n",
        "path_to_zip_file = '/content/Potato_crop.zip'\n",
        "directory_to_extract_to = '/content/'\n",
        "zip_ref = zipfile.ZipFile(path_to_zip_file, 'r')\n",
        "zip_ref.extractall(directory_to_extract_to)\n",
        "zip_ref.close()"
      ],
      "execution_count": 0,
      "outputs": []
    },
    {
      "metadata": {
        "id": "QPWf2cCXOIPv",
        "colab_type": "code",
        "colab": {
          "base_uri": "https://localhost:8080/",
          "height": 34
        },
        "outputId": "ace83618-f9d5-4e0e-8644-f6de18db6e40"
      },
      "cell_type": "code",
      "source": [
        "for name, data in uploaded.items():\n",
        "  with open(name, 'wb') as f:\n",
        "    f.write(data)\n",
        "    print('Saved file', name)"
      ],
      "execution_count": 22,
      "outputs": [
        {
          "output_type": "stream",
          "text": [
            "Saved file Potato_crop.zip\n"
          ],
          "name": "stdout"
        }
      ]
    },
    {
      "metadata": {
        "id": "c5_ruacG0uEI",
        "colab_type": "code",
        "colab": {}
      },
      "cell_type": "code",
      "source": [
        "# CNN MODEL\n",
        "import os\n",
        "import glob\n",
        "import ntpath\n",
        "import cv2\n",
        "import numpy as np\n",
        "from keras.utils.np_utils import to_categorical # convert to one-hot-encoding\n",
        "from keras.models import Sequential\n",
        "from keras.layers import Dense, Dropout, Flatten, Conv2D, MaxPool2D, GlobalMaxPooling2D\n",
        "from keras.optimizers import RMSprop\n",
        "from keras.preprocessing.image import ImageDataGenerator\n",
        "from keras.optimizers import Adam"
      ],
      "execution_count": 0,
      "outputs": []
    },
    {
      "metadata": {
        "id": "vQ2pVubj0ve5",
        "colab_type": "code",
        "colab": {}
      },
      "cell_type": "code",
      "source": [
        "PREPROCESSED_DATA_FOLDER= \"/content/Potato_crop\""
      ],
      "execution_count": 0,
      "outputs": []
    },
    {
      "metadata": {
        "id": "GZxD-CYU00eX",
        "colab_type": "code",
        "colab": {}
      },
      "cell_type": "code",
      "source": [
        "images = []\n",
        "classes = []\n",
        "\n",
        "imgNone = 0\n",
        "imgCnt = 0\n",
        "\n",
        "for classFolderPath in os.listdir(PREPROCESSED_DATA_FOLDER):\n",
        "    \n",
        "    pattern = os.path.join(PREPROCESSED_DATA_FOLDER, classFolderPath, \"*.JPG\")\n",
        "    \n",
        "    for imagePath in glob.glob( pattern ):\n",
        "\n",
        "        img = cv2.imread(imagePath, cv2.IMREAD_COLOR)\n",
        "        \n",
        "        # if the file contain any missig value ignore it\n",
        "        if img is None:\n",
        "            imgNone += 1\n",
        "            continue\n",
        "            \n",
        "        imgCnt += 1\n",
        "        \n",
        "        images.append( img )\n",
        "        classes.append(classFolderPath)"
      ],
      "execution_count": 0,
      "outputs": []
    },
    {
      "metadata": {
        "id": "E_UJIOkn555b",
        "colab_type": "code",
        "colab": {}
      },
      "cell_type": "code",
      "source": [
        "def resize_images(img):\n",
        "\n",
        "  img = np.array(img).astype(np.uint8)\n",
        "  #print(img.dtype)\n",
        "  res = cv2.resize(img,(224,224), interpolation = cv2.INTER_CUBIC)\n",
        "  return res\n",
        "#resized=[]\n",
        "#for image in images:\n",
        "#  ressized= resize_images(images[image])"
      ],
      "execution_count": 0,
      "outputs": []
    },
    {
      "metadata": {
        "id": "m-znzJif5_VC",
        "colab_type": "code",
        "colab": {}
      },
      "cell_type": "code",
      "source": [
        "#save resized images into images.\n",
        "images = [resize_images(img) for img in images]"
      ],
      "execution_count": 0,
      "outputs": []
    },
    {
      "metadata": {
        "id": "lXm1Vwty1NVw",
        "colab_type": "code",
        "colab": {}
      },
      "cell_type": "code",
      "source": [
        "images = np.array(images)\n",
        "classes = np.array(classes)"
      ],
      "execution_count": 0,
      "outputs": []
    },
    {
      "metadata": {
        "id": "t820Moj11plA",
        "colab_type": "code",
        "colab": {}
      },
      "cell_type": "code",
      "source": [
        "\n",
        "import sys \n",
        "import os\n",
        "from keras.layers import *\n",
        "from keras.optimizers import *\n",
        "from keras.applications import *\n",
        "from keras.models import Model\n",
        "from keras.preprocessing.image import ImageDataGenerator\n",
        "from keras.callbacks import ModelCheckpoint, EarlyStopping\n",
        "from keras import backend as k\n",
        "import keras\n",
        "from keras.callbacks import TensorBoard\n",
        "from keras.applications.mobilenet import MobileNet\n",
        "\n",
        "# fix seed for reproducible results (only works on CPU, not GPU)\n",
        "seed = 9\n",
        "np.random.seed(seed=seed)\n",
        "tf.set_random_seed(seed=seed)"
      ],
      "execution_count": 0,
      "outputs": []
    },
    {
      "metadata": {
        "id": "_TYh6uoQ1rkx",
        "colab_type": "code",
        "colab": {}
      },
      "cell_type": "code",
      "source": [
        "\n",
        "# All defined hyper parameters for model\n",
        "nb_classes = 2                             # number of classes\n",
        "based_model_last_block_layer_number = 126  # value is based on based model selected.\n",
        "img_width, img_height = 256, 256           # change based on the shape/structure of your images for squeezenet\n",
        "batch_size = 32                            # dependent on CPU/GPU memory capacity (powers of 2 values).\n",
        "nb_epoch = 20                              # number of iteration the algorithm gets trained.\n",
        "learn_rate = 1e-4                          # sgd learning rate\n",
        "momentum = .9                              # sgd momentum to avoid local minimum\n",
        "transformation_ratio = .05                 # how aggressive will be the data augmentation/transformation\n",
        "nb_train_samples = 240                     # Total number of train samples. NOT including augmented images\n",
        "nb_validation_samples = 96                 # Total number of train samples. NOT including augmented images."
      ],
      "execution_count": 0,
      "outputs": []
    },
    {
      "metadata": {
        "id": "g4Ex17xZ2jT7",
        "colab_type": "code",
        "colab": {}
      },
      "cell_type": "code",
      "source": [
        "images = np.array(images)\n",
        "classes = np.array(classes)\n",
        "# Label encoder\n",
        "from sklearn.preprocessing import LabelBinarizer\n",
        "enc = LabelBinarizer()\n",
        "encodedLabels = enc.fit_transform(classes)"
      ],
      "execution_count": 0,
      "outputs": []
    },
    {
      "metadata": {
        "id": "Q5AU-wZd2hr8",
        "colab_type": "code",
        "colab": {}
      },
      "cell_type": "code",
      "source": [
        "# Spliting data into training and testing set\n",
        "from sklearn.model_selection import train_test_split\n",
        "X_train, X_test, y_train, y_test = train_test_split(images, encodedLabels, test_size=0.2, random_state=80)"
      ],
      "execution_count": 0,
      "outputs": []
    },
    {
      "metadata": {
        "id": "gI5KUaaM5UGh",
        "colab_type": "code",
        "colab": {}
      },
      "cell_type": "code",
      "source": [
        "from keras.preprocessing import image\n",
        "from keras.applications import resnet50, inception_v3, vgg16\n",
        "from keras.models import Model\n",
        "from keras.layers import Dense, GlobalAveragePooling2D, Input\n",
        "from keras.optimizers import Adam\n",
        "import numpy as np\n",
        "\n",
        "batch_size = 50\n",
        "num_classes = 3\n",
        "\n",
        "#base_model = resnet50.ResNet50\n",
        "#base_model = inception_v3.InceptionV3\n",
        "base_model = vgg16.VGG16"
      ],
      "execution_count": 0,
      "outputs": []
    },
    {
      "metadata": {
        "id": "3Wot_zg-5WzR",
        "colab_type": "code",
        "colab": {
          "base_uri": "https://localhost:8080/",
          "height": 71
        },
        "outputId": "9f7fd9d1-9395-4afd-bc6e-f3e87d886395"
      },
      "cell_type": "code",
      "source": [
        "base_model = base_model(weights='imagenet', include_top=False)\n",
        "x = base_model.output\n",
        "x = GlobalAveragePooling2D()(x)\n",
        "x = Dense(1024, activation='relu')(x)\n",
        "predictions = Dense(num_classes, activation='softmax')(x)\n",
        "model = Model(inputs=base_model.input, outputs=predictions)\n",
        "for layer in base_model.layers:\n",
        "    layer.trainable = False\n",
        "\n",
        "model.compile(loss='sparse_categorical_crossentropy',\n",
        "              optimizer=Adam(lr=0.0001),\n",
        "              metrics=['acc'])\n",
        "\n",
        "x_train = np.random.normal(loc=127, scale=127, size=(50, 224,224,3))\n",
        "y_train = np.array([0,1]*25)\n",
        "x_train = vgg16.preprocess_input(x_train)"
      ],
      "execution_count": 41,
      "outputs": [
        {
          "output_type": "stream",
          "text": [
            "Downloading data from https://github.com/fchollet/deep-learning-models/releases/download/v0.1/vgg16_weights_tf_dim_ordering_tf_kernels_notop.h5\n",
            "58892288/58889256 [==============================] - 5s 0us/step\n"
          ],
          "name": "stdout"
        }
      ]
    },
    {
      "metadata": {
        "id": "1JE23cPw6Mt5",
        "colab_type": "code",
        "colab": {
          "base_uri": "https://localhost:8080/",
          "height": 3539
        },
        "outputId": "df0868b0-ef26-43dd-8266-f72c5fec4f58"
      },
      "cell_type": "code",
      "source": [
        "print(model.evaluate(x_train, y_train, batch_size=batch_size, verbose=0))\n",
        "model.fit(x_train, y_train,\n",
        "          epochs=100,\n",
        "          batch_size=batch_size,\n",
        "          shuffle=False,\n",
        "          validation_data=(x_train, y_train))"
      ],
      "execution_count": 42,
      "outputs": [
        {
          "output_type": "stream",
          "text": [
            "[4.3350749015808105, 0.5]\n",
            "WARNING:tensorflow:From /usr/local/lib/python3.6/dist-packages/tensorflow/python/ops/math_ops.py:3066: to_int32 (from tensorflow.python.ops.math_ops) is deprecated and will be removed in a future version.\n",
            "Instructions for updating:\n",
            "Use tf.cast instead.\n",
            "Train on 50 samples, validate on 50 samples\n",
            "Epoch 1/100\n",
            "50/50 [==============================] - 2s 38ms/step - loss: 4.3351 - acc: 0.5000 - val_loss: 3.2564 - val_acc: 0.5000\n",
            "Epoch 2/100\n",
            "50/50 [==============================] - 1s 22ms/step - loss: 3.2564 - acc: 0.5000 - val_loss: 2.2170 - val_acc: 0.5000\n",
            "Epoch 3/100\n",
            "50/50 [==============================] - 1s 22ms/step - loss: 2.2170 - acc: 0.5000 - val_loss: 1.3162 - val_acc: 0.5000\n",
            "Epoch 4/100\n",
            "50/50 [==============================] - 1s 22ms/step - loss: 1.3162 - acc: 0.5000 - val_loss: 0.9147 - val_acc: 0.4000\n",
            "Epoch 5/100\n",
            "50/50 [==============================] - 1s 22ms/step - loss: 0.9147 - acc: 0.4000 - val_loss: 1.1952 - val_acc: 0.5000\n",
            "Epoch 6/100\n",
            "50/50 [==============================] - 1s 22ms/step - loss: 1.1952 - acc: 0.5000 - val_loss: 1.5304 - val_acc: 0.5000\n",
            "Epoch 7/100\n",
            "50/50 [==============================] - 1s 22ms/step - loss: 1.5304 - acc: 0.5000 - val_loss: 1.6349 - val_acc: 0.5000\n",
            "Epoch 8/100\n",
            "50/50 [==============================] - 1s 23ms/step - loss: 1.6349 - acc: 0.5000 - val_loss: 1.5309 - val_acc: 0.5000\n",
            "Epoch 9/100\n",
            "50/50 [==============================] - 1s 22ms/step - loss: 1.5309 - acc: 0.5000 - val_loss: 1.2890 - val_acc: 0.5000\n",
            "Epoch 10/100\n",
            "50/50 [==============================] - 1s 22ms/step - loss: 1.2890 - acc: 0.5000 - val_loss: 1.0004 - val_acc: 0.5200\n",
            "Epoch 11/100\n",
            "50/50 [==============================] - 1s 22ms/step - loss: 1.0004 - acc: 0.5200 - val_loss: 0.7897 - val_acc: 0.5000\n",
            "Epoch 12/100\n",
            "50/50 [==============================] - 1s 22ms/step - loss: 0.7897 - acc: 0.5000 - val_loss: 0.7624 - val_acc: 0.5000\n",
            "Epoch 13/100\n",
            "50/50 [==============================] - 1s 22ms/step - loss: 0.7624 - acc: 0.5000 - val_loss: 0.8822 - val_acc: 0.5000\n",
            "Epoch 14/100\n",
            "50/50 [==============================] - 1s 22ms/step - loss: 0.8822 - acc: 0.5000 - val_loss: 1.0151 - val_acc: 0.5000\n",
            "Epoch 15/100\n",
            "50/50 [==============================] - 1s 22ms/step - loss: 1.0151 - acc: 0.5000 - val_loss: 1.0730 - val_acc: 0.5000\n",
            "Epoch 16/100\n",
            "50/50 [==============================] - 1s 22ms/step - loss: 1.0730 - acc: 0.5000 - val_loss: 1.0374 - val_acc: 0.5000\n",
            "Epoch 17/100\n",
            "50/50 [==============================] - 1s 22ms/step - loss: 1.0374 - acc: 0.5000 - val_loss: 0.9318 - val_acc: 0.5000\n",
            "Epoch 18/100\n",
            "50/50 [==============================] - 1s 22ms/step - loss: 0.9318 - acc: 0.5000 - val_loss: 0.8046 - val_acc: 0.5600\n",
            "Epoch 19/100\n",
            "50/50 [==============================] - 1s 22ms/step - loss: 0.8046 - acc: 0.5600 - val_loss: 0.7153 - val_acc: 0.5000\n",
            "Epoch 20/100\n",
            "50/50 [==============================] - 1s 22ms/step - loss: 0.7153 - acc: 0.5000 - val_loss: 0.7024 - val_acc: 0.5200\n",
            "Epoch 21/100\n",
            "50/50 [==============================] - 1s 22ms/step - loss: 0.7024 - acc: 0.5200 - val_loss: 0.7510 - val_acc: 0.6000\n",
            "Epoch 22/100\n",
            "50/50 [==============================] - 1s 22ms/step - loss: 0.7510 - acc: 0.6000 - val_loss: 0.8087 - val_acc: 0.5200\n",
            "Epoch 23/100\n",
            "50/50 [==============================] - 1s 22ms/step - loss: 0.8087 - acc: 0.5200 - val_loss: 0.8316 - val_acc: 0.5200\n",
            "Epoch 24/100\n",
            "50/50 [==============================] - 1s 22ms/step - loss: 0.8316 - acc: 0.5200 - val_loss: 0.8066 - val_acc: 0.5200\n",
            "Epoch 25/100\n",
            "50/50 [==============================] - 1s 22ms/step - loss: 0.8066 - acc: 0.5200 - val_loss: 0.7481 - val_acc: 0.5800\n",
            "Epoch 26/100\n",
            "50/50 [==============================] - 1s 22ms/step - loss: 0.7481 - acc: 0.5800 - val_loss: 0.6867 - val_acc: 0.5800\n",
            "Epoch 27/100\n",
            "50/50 [==============================] - 1s 22ms/step - loss: 0.6867 - acc: 0.5800 - val_loss: 0.6534 - val_acc: 0.5800\n",
            "Epoch 28/100\n",
            "50/50 [==============================] - 1s 22ms/step - loss: 0.6534 - acc: 0.5800 - val_loss: 0.6587 - val_acc: 0.6000\n",
            "Epoch 29/100\n",
            "50/50 [==============================] - 1s 22ms/step - loss: 0.6587 - acc: 0.6000 - val_loss: 0.6857 - val_acc: 0.6000\n",
            "Epoch 30/100\n",
            "50/50 [==============================] - 1s 22ms/step - loss: 0.6857 - acc: 0.6000 - val_loss: 0.7065 - val_acc: 0.5600\n",
            "Epoch 31/100\n",
            "50/50 [==============================] - 1s 22ms/step - loss: 0.7065 - acc: 0.5600 - val_loss: 0.7032 - val_acc: 0.5600\n",
            "Epoch 32/100\n",
            "50/50 [==============================] - 1s 22ms/step - loss: 0.7032 - acc: 0.5600 - val_loss: 0.6766 - val_acc: 0.5800\n",
            "Epoch 33/100\n",
            "50/50 [==============================] - 1s 22ms/step - loss: 0.6766 - acc: 0.5800 - val_loss: 0.6417 - val_acc: 0.6600\n",
            "Epoch 34/100\n",
            "50/50 [==============================] - 1s 22ms/step - loss: 0.6417 - acc: 0.6600 - val_loss: 0.6173 - val_acc: 0.6600\n",
            "Epoch 35/100\n",
            "50/50 [==============================] - 1s 22ms/step - loss: 0.6173 - acc: 0.6600 - val_loss: 0.6134 - val_acc: 0.5600\n",
            "Epoch 36/100\n",
            "50/50 [==============================] - 1s 22ms/step - loss: 0.6134 - acc: 0.5600 - val_loss: 0.6240 - val_acc: 0.6600\n",
            "Epoch 37/100\n",
            "50/50 [==============================] - 1s 22ms/step - loss: 0.6240 - acc: 0.6600 - val_loss: 0.6343 - val_acc: 0.6400\n",
            "Epoch 38/100\n",
            "50/50 [==============================] - 1s 22ms/step - loss: 0.6343 - acc: 0.6400 - val_loss: 0.6322 - val_acc: 0.6400\n",
            "Epoch 39/100\n",
            "50/50 [==============================] - 1s 22ms/step - loss: 0.6322 - acc: 0.6400 - val_loss: 0.6168 - val_acc: 0.6600\n",
            "Epoch 40/100\n",
            "50/50 [==============================] - 1s 22ms/step - loss: 0.6168 - acc: 0.6600 - val_loss: 0.5964 - val_acc: 0.6200\n",
            "Epoch 41/100\n",
            "50/50 [==============================] - 1s 22ms/step - loss: 0.5964 - acc: 0.6200 - val_loss: 0.5823 - val_acc: 0.6400\n",
            "Epoch 42/100\n",
            "50/50 [==============================] - 1s 22ms/step - loss: 0.5823 - acc: 0.6400 - val_loss: 0.5795 - val_acc: 0.7000\n",
            "Epoch 43/100\n",
            "50/50 [==============================] - 1s 22ms/step - loss: 0.5795 - acc: 0.7000 - val_loss: 0.5838 - val_acc: 0.7000\n",
            "Epoch 44/100\n",
            "50/50 [==============================] - 1s 22ms/step - loss: 0.5838 - acc: 0.7000 - val_loss: 0.5863 - val_acc: 0.7000\n",
            "Epoch 45/100\n",
            "50/50 [==============================] - 1s 22ms/step - loss: 0.5863 - acc: 0.7000 - val_loss: 0.5812 - val_acc: 0.7000\n",
            "Epoch 46/100\n",
            "50/50 [==============================] - 1s 22ms/step - loss: 0.5812 - acc: 0.7000 - val_loss: 0.5696 - val_acc: 0.7400\n",
            "Epoch 47/100\n",
            "50/50 [==============================] - 1s 22ms/step - loss: 0.5696 - acc: 0.7400 - val_loss: 0.5574 - val_acc: 0.7800\n",
            "Epoch 48/100\n",
            "50/50 [==============================] - 1s 22ms/step - loss: 0.5574 - acc: 0.7800 - val_loss: 0.5503 - val_acc: 0.7200\n",
            "Epoch 49/100\n",
            "50/50 [==============================] - 1s 22ms/step - loss: 0.5503 - acc: 0.7200 - val_loss: 0.5489 - val_acc: 0.7000\n",
            "Epoch 50/100\n",
            "50/50 [==============================] - 1s 22ms/step - loss: 0.5489 - acc: 0.7000 - val_loss: 0.5494 - val_acc: 0.7000\n",
            "Epoch 51/100\n",
            "50/50 [==============================] - 1s 22ms/step - loss: 0.5494 - acc: 0.7000 - val_loss: 0.5471 - val_acc: 0.7200\n",
            "Epoch 52/100\n",
            "50/50 [==============================] - 1s 22ms/step - loss: 0.5471 - acc: 0.7200 - val_loss: 0.5403 - val_acc: 0.7400\n",
            "Epoch 53/100\n",
            "50/50 [==============================] - 1s 22ms/step - loss: 0.5403 - acc: 0.7400 - val_loss: 0.5316 - val_acc: 0.7400\n",
            "Epoch 54/100\n",
            "50/50 [==============================] - 1s 22ms/step - loss: 0.5316 - acc: 0.7400 - val_loss: 0.5246 - val_acc: 0.8000\n",
            "Epoch 55/100\n",
            "50/50 [==============================] - 1s 22ms/step - loss: 0.5246 - acc: 0.8000 - val_loss: 0.5212 - val_acc: 0.8000\n",
            "Epoch 56/100\n",
            "50/50 [==============================] - 1s 22ms/step - loss: 0.5212 - acc: 0.8000 - val_loss: 0.5198 - val_acc: 0.7800\n",
            "Epoch 57/100\n",
            "50/50 [==============================] - 1s 22ms/step - loss: 0.5198 - acc: 0.7800 - val_loss: 0.5174 - val_acc: 0.7800\n",
            "Epoch 58/100\n",
            "50/50 [==============================] - 1s 22ms/step - loss: 0.5174 - acc: 0.7800 - val_loss: 0.5125 - val_acc: 0.7800\n",
            "Epoch 59/100\n",
            "50/50 [==============================] - 1s 22ms/step - loss: 0.5125 - acc: 0.7800 - val_loss: 0.5061 - val_acc: 0.8000\n",
            "Epoch 60/100\n",
            "50/50 [==============================] - 1s 22ms/step - loss: 0.5061 - acc: 0.8000 - val_loss: 0.5005 - val_acc: 0.8400\n",
            "Epoch 61/100\n",
            "50/50 [==============================] - 1s 22ms/step - loss: 0.5005 - acc: 0.8400 - val_loss: 0.4969 - val_acc: 0.8600\n",
            "Epoch 62/100\n",
            "50/50 [==============================] - 1s 22ms/step - loss: 0.4969 - acc: 0.8600 - val_loss: 0.4946 - val_acc: 0.8600\n",
            "Epoch 63/100\n",
            "50/50 [==============================] - 1s 22ms/step - loss: 0.4946 - acc: 0.8600 - val_loss: 0.4919 - val_acc: 0.8600\n",
            "Epoch 64/100\n",
            "50/50 [==============================] - 1s 22ms/step - loss: 0.4919 - acc: 0.8600 - val_loss: 0.4877 - val_acc: 0.8600\n",
            "Epoch 65/100\n",
            "50/50 [==============================] - 1s 22ms/step - loss: 0.4877 - acc: 0.8600 - val_loss: 0.4825 - val_acc: 0.9000\n",
            "Epoch 66/100\n",
            "50/50 [==============================] - 1s 22ms/step - loss: 0.4825 - acc: 0.9000 - val_loss: 0.4778 - val_acc: 0.8600\n",
            "Epoch 67/100\n",
            "50/50 [==============================] - 1s 22ms/step - loss: 0.4778 - acc: 0.8600 - val_loss: 0.4742 - val_acc: 0.8400\n",
            "Epoch 68/100\n",
            "50/50 [==============================] - 1s 22ms/step - loss: 0.4742 - acc: 0.8400 - val_loss: 0.4714 - val_acc: 0.8400\n",
            "Epoch 69/100\n",
            "50/50 [==============================] - 1s 22ms/step - loss: 0.4714 - acc: 0.8400 - val_loss: 0.4681 - val_acc: 0.8400\n",
            "Epoch 70/100\n",
            "50/50 [==============================] - 1s 22ms/step - loss: 0.4681 - acc: 0.8400 - val_loss: 0.4638 - val_acc: 0.8400\n",
            "Epoch 71/100\n",
            "50/50 [==============================] - 1s 22ms/step - loss: 0.4638 - acc: 0.8400 - val_loss: 0.4593 - val_acc: 0.8600\n",
            "Epoch 72/100\n",
            "50/50 [==============================] - 1s 22ms/step - loss: 0.4593 - acc: 0.8600 - val_loss: 0.4554 - val_acc: 0.8800\n",
            "Epoch 73/100\n",
            "50/50 [==============================] - 1s 22ms/step - loss: 0.4554 - acc: 0.8800 - val_loss: 0.4521 - val_acc: 0.9200\n",
            "Epoch 74/100\n",
            "50/50 [==============================] - 1s 22ms/step - loss: 0.4521 - acc: 0.9200 - val_loss: 0.4491 - val_acc: 0.9200\n",
            "Epoch 75/100\n",
            "50/50 [==============================] - 1s 22ms/step - loss: 0.4491 - acc: 0.9200 - val_loss: 0.4456 - val_acc: 0.9200\n",
            "Epoch 76/100\n",
            "50/50 [==============================] - 1s 22ms/step - loss: 0.4456 - acc: 0.9200 - val_loss: 0.4418 - val_acc: 0.9200\n",
            "Epoch 77/100\n",
            "50/50 [==============================] - 1s 22ms/step - loss: 0.4418 - acc: 0.9200 - val_loss: 0.4379 - val_acc: 0.9200\n",
            "Epoch 78/100\n",
            "50/50 [==============================] - 1s 22ms/step - loss: 0.4379 - acc: 0.9200 - val_loss: 0.4344 - val_acc: 0.9200\n",
            "Epoch 79/100\n",
            "50/50 [==============================] - 1s 22ms/step - loss: 0.4344 - acc: 0.9200 - val_loss: 0.4312 - val_acc: 0.9200\n",
            "Epoch 80/100\n",
            "50/50 [==============================] - 1s 22ms/step - loss: 0.4312 - acc: 0.9200 - val_loss: 0.4280 - val_acc: 0.9400\n",
            "Epoch 81/100\n",
            "50/50 [==============================] - 1s 22ms/step - loss: 0.4280 - acc: 0.9400 - val_loss: 0.4245 - val_acc: 0.9400\n",
            "Epoch 82/100\n",
            "50/50 [==============================] - 1s 22ms/step - loss: 0.4245 - acc: 0.9400 - val_loss: 0.4210 - val_acc: 0.9400\n",
            "Epoch 83/100\n",
            "50/50 [==============================] - 1s 23ms/step - loss: 0.4210 - acc: 0.9400 - val_loss: 0.4175 - val_acc: 0.9400\n",
            "Epoch 84/100\n",
            "50/50 [==============================] - 1s 22ms/step - loss: 0.4175 - acc: 0.9400 - val_loss: 0.4142 - val_acc: 0.9600\n",
            "Epoch 85/100\n",
            "50/50 [==============================] - 1s 22ms/step - loss: 0.4142 - acc: 0.9600 - val_loss: 0.4110 - val_acc: 0.9600\n",
            "Epoch 86/100\n",
            "50/50 [==============================] - 1s 22ms/step - loss: 0.4110 - acc: 0.9600 - val_loss: 0.4078 - val_acc: 0.9600\n",
            "Epoch 87/100\n",
            "50/50 [==============================] - 1s 22ms/step - loss: 0.4078 - acc: 0.9600 - val_loss: 0.4045 - val_acc: 0.9600\n",
            "Epoch 88/100\n",
            "50/50 [==============================] - 1s 22ms/step - loss: 0.4045 - acc: 0.9600 - val_loss: 0.4012 - val_acc: 0.9600\n",
            "Epoch 89/100\n",
            "50/50 [==============================] - 1s 22ms/step - loss: 0.4012 - acc: 0.9600 - val_loss: 0.3981 - val_acc: 0.9600\n",
            "Epoch 90/100\n",
            "50/50 [==============================] - 1s 22ms/step - loss: 0.3981 - acc: 0.9600 - val_loss: 0.3950 - val_acc: 0.9600\n",
            "Epoch 91/100\n",
            "50/50 [==============================] - 1s 22ms/step - loss: 0.3950 - acc: 0.9600 - val_loss: 0.3920 - val_acc: 0.9800\n",
            "Epoch 92/100\n",
            "50/50 [==============================] - 1s 23ms/step - loss: 0.3920 - acc: 0.9800 - val_loss: 0.3890 - val_acc: 1.0000\n",
            "Epoch 93/100\n",
            "50/50 [==============================] - 1s 22ms/step - loss: 0.3890 - acc: 1.0000 - val_loss: 0.3860 - val_acc: 0.9800\n",
            "Epoch 94/100\n",
            "50/50 [==============================] - 1s 22ms/step - loss: 0.3860 - acc: 0.9800 - val_loss: 0.3830 - val_acc: 0.9600\n",
            "Epoch 95/100\n",
            "50/50 [==============================] - 1s 22ms/step - loss: 0.3830 - acc: 0.9600 - val_loss: 0.3801 - val_acc: 0.9600\n",
            "Epoch 96/100\n",
            "50/50 [==============================] - 1s 22ms/step - loss: 0.3801 - acc: 0.9600 - val_loss: 0.3772 - val_acc: 0.9800\n",
            "Epoch 97/100\n",
            "50/50 [==============================] - 1s 22ms/step - loss: 0.3772 - acc: 0.9800 - val_loss: 0.3744 - val_acc: 0.9800\n",
            "Epoch 98/100\n",
            "50/50 [==============================] - 1s 22ms/step - loss: 0.3744 - acc: 0.9800 - val_loss: 0.3715 - val_acc: 0.9800\n",
            "Epoch 99/100\n",
            "50/50 [==============================] - 1s 23ms/step - loss: 0.3715 - acc: 0.9800 - val_loss: 0.3687 - val_acc: 1.0000\n",
            "Epoch 100/100\n",
            "50/50 [==============================] - 1s 22ms/step - loss: 0.3687 - acc: 1.0000 - val_loss: 0.3659 - val_acc: 1.0000\n"
          ],
          "name": "stdout"
        },
        {
          "output_type": "execute_result",
          "data": {
            "text/plain": [
              "<keras.callbacks.History at 0x7fbf43501240>"
            ]
          },
          "metadata": {
            "tags": []
          },
          "execution_count": 42
        }
      ]
    }
  ]
}