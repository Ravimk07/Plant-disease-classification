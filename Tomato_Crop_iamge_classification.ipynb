{
  "nbformat": 4,
  "nbformat_minor": 0,
  "metadata": {
    "colab": {
      "name": "Tomato_Crop_iamge_classification.ipynb",
      "version": "0.3.2",
      "provenance": [],
      "collapsed_sections": [],
      "include_colab_link": true
    },
    "kernelspec": {
      "name": "python3",
      "display_name": "Python 3"
    },
    "accelerator": "GPU"
  },
  "cells": [
    {
      "cell_type": "markdown",
      "metadata": {
        "id": "view-in-github",
        "colab_type": "text"
      },
      "source": [
        "<a href=\"https://colab.research.google.com/github/Ravimk07/Plant-disease-classification/blob/master/Tomato_Crop_iamge_classification.ipynb\" target=\"_parent\"><img src=\"https://colab.research.google.com/assets/colab-badge.svg\" alt=\"Open In Colab\"/></a>"
      ]
    },
    {
      "metadata": {
        "id": "ALdk9DlL2foj",
        "colab_type": "code",
        "outputId": "c4638529-fed1-49fb-86cb-ce093e05c34a",
        "colab": {
          "base_uri": "https://localhost:8080/",
          "height": 35
        }
      },
      "cell_type": "code",
      "source": [
        "import os\n",
        "os.getcwd()"
      ],
      "execution_count": 0,
      "outputs": [
        {
          "output_type": "execute_result",
          "data": {
            "text/plain": [
              "'/content'"
            ]
          },
          "metadata": {
            "tags": []
          },
          "execution_count": 1
        }
      ]
    },
    {
      "metadata": {
        "id": "ssD9Pefi2uBr",
        "colab_type": "code",
        "outputId": "eadac9ed-3399-4ee5-9609-501640c9a0d8",
        "colab": {
          "base_uri": "https://localhost:8080/",
          "height": 133
        }
      },
      "cell_type": "code",
      "source": [
        "from google.colab import drive\n",
        "drive.mount('/content/drive')"
      ],
      "execution_count": 0,
      "outputs": [
        {
          "output_type": "stream",
          "text": [
            "Go to this URL in a browser: https://accounts.google.com/o/oauth2/auth?client_id=947318989803-6bn6qk8qdgf4n4g3pfee6491hc0brc4i.apps.googleusercontent.com&redirect_uri=urn%3Aietf%3Awg%3Aoauth%3A2.0%3Aoob&scope=email%20https%3A%2F%2Fwww.googleapis.com%2Fauth%2Fdocs.test%20https%3A%2F%2Fwww.googleapis.com%2Fauth%2Fdrive%20https%3A%2F%2Fwww.googleapis.com%2Fauth%2Fdrive.photos.readonly%20https%3A%2F%2Fwww.googleapis.com%2Fauth%2Fpeopleapi.readonly&response_type=code\n",
            "\n",
            "Enter your authorization code:\n",
            "··········\n",
            "Mounted at /content/drive\n"
          ],
          "name": "stdout"
        }
      ]
    },
    {
      "metadata": {
        "id": "OpMa0PJz2_Ce",
        "colab_type": "code",
        "colab": {}
      },
      "cell_type": "code",
      "source": [
        "/content/drive/My Drive/Disease Detection/Processed"
      ],
      "execution_count": 0,
      "outputs": []
    },
    {
      "metadata": {
        "id": "AapLMeiv3wzB",
        "colab_type": "code",
        "colab": {}
      },
      "cell_type": "code",
      "source": [
        "PREPROCESSED_DATA_FOLDER= \"/content/drive/My Drive/Disease Detection/Processed\""
      ],
      "execution_count": 0,
      "outputs": []
    },
    {
      "metadata": {
        "id": "cImpgOD84Ov-",
        "colab_type": "code",
        "outputId": "9fcea99f-b1a7-4228-baa2-e15218ce4edc",
        "colab": {
          "base_uri": "https://localhost:8080/",
          "height": 35
        }
      },
      "cell_type": "code",
      "source": [
        "import glob\n",
        "import ntpath\n",
        "import cv2\n",
        "import numpy as np\n",
        "\n",
        "# CNN MODEL\n",
        "from keras.utils.np_utils import to_categorical # convert to one-hot-encoding\n",
        "from keras.models import Sequential\n",
        "from keras.layers import Dense, Dropout, Flatten, Conv2D, MaxPool2D, GlobalMaxPooling2D\n",
        "from keras.optimizers import RMSprop\n",
        "from keras.preprocessing.image import ImageDataGenerator\n",
        "from keras.optimizers import Adam"
      ],
      "execution_count": 0,
      "outputs": [
        {
          "output_type": "stream",
          "text": [
            "Using TensorFlow backend.\n"
          ],
          "name": "stderr"
        }
      ]
    },
    {
      "metadata": {
        "id": "WR0vBWkb4dD1",
        "colab_type": "code",
        "colab": {}
      },
      "cell_type": "code",
      "source": [
        "images = []\n",
        "classes = []\n",
        "\n",
        "imgNone = 0\n",
        "imgCnt = 0\n",
        "\n",
        "for classFolderPath in os.listdir(PREPROCESSED_DATA_FOLDER):\n",
        "    \n",
        "    pattern = os.path.join(PREPROCESSED_DATA_FOLDER, classFolderPath, \"*.JPG\")\n",
        "    \n",
        "    for imagePath in glob.glob( pattern ):\n",
        "\n",
        "        img = cv2.imread(imagePath, cv2.IMREAD_COLOR)\n",
        "        \n",
        "        # if the file contain any missig value ignore it\n",
        "        if img is None:\n",
        "            imgNone += 1\n",
        "            continue\n",
        "            \n",
        "        imgCnt += 1\n",
        "        \n",
        "        images.append( img )\n",
        "        classes.append(classFolderPath)"
      ],
      "execution_count": 0,
      "outputs": []
    },
    {
      "metadata": {
        "id": "PrYVorDshNpv",
        "colab_type": "code",
        "outputId": "100d5af9-8f66-440d-d970-6a21fea6f53b",
        "colab": {
          "base_uri": "https://localhost:8080/",
          "height": 35
        }
      },
      "cell_type": "code",
      "source": [
        "images = np.array(images)\n",
        "classes = np.array(classes)\n",
        "len(classes)"
      ],
      "execution_count": 0,
      "outputs": [
        {
          "output_type": "execute_result",
          "data": {
            "text/plain": [
              "16020"
            ]
          },
          "metadata": {
            "tags": []
          },
          "execution_count": 13
        }
      ]
    },
    {
      "metadata": {
        "id": "m0H6J3SnhWFy",
        "colab_type": "code",
        "colab": {}
      },
      "cell_type": "code",
      "source": [
        "# Label encoder\n",
        "from sklearn.preprocessing import LabelBinarizer\n",
        "enc = LabelBinarizer()\n",
        "encodedLabels = enc.fit_transform(classes)"
      ],
      "execution_count": 0,
      "outputs": []
    },
    {
      "metadata": {
        "id": "Vk2pNzoUhswW",
        "colab_type": "code",
        "colab": {}
      },
      "cell_type": "code",
      "source": [
        "x_train, x_test, y_train, y_test = train_test_split(images, encodedLabels, test_size=0.2, random_state = 42)"
      ],
      "execution_count": 0,
      "outputs": []
    },
    {
      "metadata": {
        "id": "GiAOpvIMvJFR",
        "colab_type": "code",
        "colab": {}
      },
      "cell_type": "code",
      "source": [
        "aug = ImageDataGenerator(\n",
        "    rotation_range=25, width_shift_range=0.1,\n",
        "    height_shift_range=0.1, shear_range=0.2, \n",
        "    zoom_range=0.2,horizontal_flip=True, \n",
        "    fill_mode=\"nearest\")"
      ],
      "execution_count": 0,
      "outputs": []
    },
    {
      "metadata": {
        "id": "zm6owkQavOIt",
        "colab_type": "code",
        "colab": {}
      },
      "cell_type": "code",
      "source": [
        "\n",
        "EPOCHS = 25\n",
        "INIT_LR = 1e-3\n",
        "BS = 32\n",
        "default_image_size = tuple((256, 256))\n",
        "image_size = 0\n",
        "directory_root = '/content/drive/My Drive/Disease Detection/Processed'\n",
        "width=100\n",
        "height=100\n",
        "depth=3"
      ],
      "execution_count": 0,
      "outputs": []
    },
    {
      "metadata": {
        "id": "yoGARJsUxplQ",
        "colab_type": "code",
        "colab": {}
      },
      "cell_type": "code",
      "source": [
        "import numpy as np\n",
        "import pickle\n",
        "import cv2\n",
        "from os import listdir\n",
        "from sklearn.preprocessing import LabelBinarizer\n",
        "from keras.models import Sequential\n",
        "from keras.layers.normalization import BatchNormalization\n",
        "from keras.layers.convolutional import Conv2D\n",
        "from keras.layers.convolutional import MaxPooling2D\n",
        "from keras.layers.core import Activation, Flatten, Dropout, Dense\n",
        "from keras import backend as K\n",
        "from keras.preprocessing.image import ImageDataGenerator\n",
        "from keras.optimizers import Adam\n",
        "from keras.preprocessing import image\n",
        "from keras.preprocessing.image import img_to_array\n",
        "from sklearn.preprocessing import MultiLabelBinarizer\n",
        "from sklearn.model_selection import train_test_split\n",
        "import matplotlib.pyplot as plt"
      ],
      "execution_count": 0,
      "outputs": []
    },
    {
      "metadata": {
        "id": "5he6Mzuvv6FP",
        "colab_type": "code",
        "colab": {}
      },
      "cell_type": "code",
      "source": [
        "from sklearn.preprocessing import LabelBinarizer\n",
        "label_binarizer = LabelBinarizer()\n",
        "image_labels = label_binarizer.fit_transform(classes)\n",
        "pickle.dump(label_binarizer,open('label_transform.pkl', 'wb'))\n",
        "n_classes = len(label_binarizer.classes_)"
      ],
      "execution_count": 0,
      "outputs": []
    },
    {
      "metadata": {
        "id": "Aes_nvhAvcfl",
        "colab_type": "code",
        "colab": {}
      },
      "cell_type": "code",
      "source": [
        "model = Sequential()\n",
        "inputShape = (height, width, depth)\n",
        "chanDim = -1\n",
        "if K.image_data_format() == \"channels_first\":\n",
        "    inputShape = (depth, height, width)\n",
        "    chanDim = 1\n",
        "model.add(Conv2D(32, (3, 3), padding=\"same\",input_shape=inputShape))\n",
        "model.add(Activation(\"relu\"))\n",
        "model.add(BatchNormalization(axis=chanDim))\n",
        "model.add(MaxPooling2D(pool_size=(3, 3)))\n",
        "model.add(Dropout(0.25))\n",
        "model.add(Conv2D(64, (3, 3), padding=\"same\"))\n",
        "model.add(Activation(\"relu\"))\n",
        "model.add(BatchNormalization(axis=chanDim))\n",
        "model.add(Conv2D(64, (3, 3), padding=\"same\"))\n",
        "model.add(Activation(\"relu\"))\n",
        "model.add(BatchNormalization(axis=chanDim))\n",
        "model.add(MaxPooling2D(pool_size=(2, 2)))\n",
        "model.add(Dropout(0.25))\n",
        "model.add(Conv2D(128, (3, 3), padding=\"same\"))\n",
        "model.add(Activation(\"relu\"))\n",
        "model.add(BatchNormalization(axis=chanDim))\n",
        "model.add(Conv2D(128, (3, 3), padding=\"same\"))\n",
        "model.add(Activation(\"relu\"))\n",
        "model.add(BatchNormalization(axis=chanDim))\n",
        "model.add(MaxPooling2D(pool_size=(2, 2)))\n",
        "model.add(Dropout(0.25))\n",
        "model.add(Flatten())\n",
        "model.add(Dense(1024))\n",
        "model.add(Activation(\"relu\"))\n",
        "model.add(BatchNormalization())\n",
        "model.add(Dropout(0.5))\n",
        "model.add(Dense(n_classes))\n",
        "model.add(Activation(\"softmax\"))"
      ],
      "execution_count": 0,
      "outputs": []
    },
    {
      "metadata": {
        "id": "bczhIlDpx-Qw",
        "colab_type": "code",
        "outputId": "e013bd45-55a6-4cec-b346-87523f2519cf",
        "colab": {
          "base_uri": "https://localhost:8080/",
          "height": 1122
        }
      },
      "cell_type": "code",
      "source": [
        "model.summary()"
      ],
      "execution_count": 0,
      "outputs": [
        {
          "output_type": "stream",
          "text": [
            "_________________________________________________________________\n",
            "Layer (type)                 Output Shape              Param #   \n",
            "=================================================================\n",
            "conv2d_6 (Conv2D)            (None, 100, 100, 32)      896       \n",
            "_________________________________________________________________\n",
            "activation_8 (Activation)    (None, 100, 100, 32)      0         \n",
            "_________________________________________________________________\n",
            "batch_normalization_7 (Batch (None, 100, 100, 32)      128       \n",
            "_________________________________________________________________\n",
            "max_pooling2d_4 (MaxPooling2 (None, 33, 33, 32)        0         \n",
            "_________________________________________________________________\n",
            "dropout_6 (Dropout)          (None, 33, 33, 32)        0         \n",
            "_________________________________________________________________\n",
            "conv2d_7 (Conv2D)            (None, 33, 33, 64)        18496     \n",
            "_________________________________________________________________\n",
            "activation_9 (Activation)    (None, 33, 33, 64)        0         \n",
            "_________________________________________________________________\n",
            "batch_normalization_8 (Batch (None, 33, 33, 64)        256       \n",
            "_________________________________________________________________\n",
            "conv2d_8 (Conv2D)            (None, 33, 33, 64)        36928     \n",
            "_________________________________________________________________\n",
            "activation_10 (Activation)   (None, 33, 33, 64)        0         \n",
            "_________________________________________________________________\n",
            "batch_normalization_9 (Batch (None, 33, 33, 64)        256       \n",
            "_________________________________________________________________\n",
            "max_pooling2d_5 (MaxPooling2 (None, 16, 16, 64)        0         \n",
            "_________________________________________________________________\n",
            "dropout_7 (Dropout)          (None, 16, 16, 64)        0         \n",
            "_________________________________________________________________\n",
            "conv2d_9 (Conv2D)            (None, 16, 16, 128)       73856     \n",
            "_________________________________________________________________\n",
            "activation_11 (Activation)   (None, 16, 16, 128)       0         \n",
            "_________________________________________________________________\n",
            "batch_normalization_10 (Batc (None, 16, 16, 128)       512       \n",
            "_________________________________________________________________\n",
            "conv2d_10 (Conv2D)           (None, 16, 16, 128)       147584    \n",
            "_________________________________________________________________\n",
            "activation_12 (Activation)   (None, 16, 16, 128)       0         \n",
            "_________________________________________________________________\n",
            "batch_normalization_11 (Batc (None, 16, 16, 128)       512       \n",
            "_________________________________________________________________\n",
            "max_pooling2d_6 (MaxPooling2 (None, 8, 8, 128)         0         \n",
            "_________________________________________________________________\n",
            "dropout_8 (Dropout)          (None, 8, 8, 128)         0         \n",
            "_________________________________________________________________\n",
            "flatten_2 (Flatten)          (None, 8192)              0         \n",
            "_________________________________________________________________\n",
            "dense_5 (Dense)              (None, 1024)              8389632   \n",
            "_________________________________________________________________\n",
            "activation_13 (Activation)   (None, 1024)              0         \n",
            "_________________________________________________________________\n",
            "batch_normalization_12 (Batc (None, 1024)              4096      \n",
            "_________________________________________________________________\n",
            "dropout_9 (Dropout)          (None, 1024)              0         \n",
            "_________________________________________________________________\n",
            "dense_6 (Dense)              (None, 10)                10250     \n",
            "_________________________________________________________________\n",
            "activation_14 (Activation)   (None, 10)                0         \n",
            "=================================================================\n",
            "Total params: 8,683,402\n",
            "Trainable params: 8,680,522\n",
            "Non-trainable params: 2,880\n",
            "_________________________________________________________________\n"
          ],
          "name": "stdout"
        }
      ]
    },
    {
      "metadata": {
        "id": "0PzmhieS3HGf",
        "colab_type": "code",
        "outputId": "bbc95785-1c48-4886-dee0-c4a6697ede89",
        "colab": {
          "base_uri": "https://localhost:8080/",
          "height": 35
        }
      },
      "cell_type": "code",
      "source": [
        "opt = Adam(lr=INIT_LR, decay=INIT_LR / EPOCHS)\n",
        "# distribution\n",
        "model.compile(loss=\"binary_crossentropy\", optimizer=opt,metrics=[\"accuracy\"])\n",
        "# train the network\n",
        "print(\"[INFO] training network...\")"
      ],
      "execution_count": 0,
      "outputs": [
        {
          "output_type": "stream",
          "text": [
            "[INFO] training network...\n"
          ],
          "name": "stdout"
        }
      ]
    },
    {
      "metadata": {
        "id": "fuUurFEA3Pma",
        "colab_type": "code",
        "outputId": "2fa62bc8-ddf4-4714-e056-86c71e8ff584",
        "colab": {
          "base_uri": "https://localhost:8080/",
          "height": 1004
        }
      },
      "cell_type": "code",
      "source": [
        "history = model.fit_generator(\n",
        "    aug.flow(x_train, y_train, batch_size=BS),\n",
        "    validation_data=(x_test, y_test),\n",
        "    steps_per_epoch=len(x_train) // BS,\n",
        "    epochs=EPOCHS, verbose=1\n",
        "    )"
      ],
      "execution_count": 0,
      "outputs": [
        {
          "output_type": "stream",
          "text": [
            "Epoch 1/25\n",
            "400/400 [==============================] - 54s 134ms/step - loss: 0.1870 - acc: 0.9362 - val_loss: 0.4404 - val_acc: 0.9089\n",
            "Epoch 2/25\n",
            "400/400 [==============================] - 46s 114ms/step - loss: 0.1143 - acc: 0.9585 - val_loss: 0.3137 - val_acc: 0.9125\n",
            "Epoch 3/25\n",
            "400/400 [==============================] - 45s 112ms/step - loss: 0.0917 - acc: 0.9662 - val_loss: 0.6522 - val_acc: 0.9061\n",
            "Epoch 4/25\n",
            "400/400 [==============================] - 44s 111ms/step - loss: 0.0794 - acc: 0.9702 - val_loss: 0.8873 - val_acc: 0.8877\n",
            "Epoch 5/25\n",
            "400/400 [==============================] - 44s 109ms/step - loss: 0.0765 - acc: 0.9718 - val_loss: 0.3106 - val_acc: 0.9238\n",
            "Epoch 6/25\n",
            "400/400 [==============================] - 44s 109ms/step - loss: 0.0609 - acc: 0.9768 - val_loss: 1.1809 - val_acc: 0.8782\n",
            "Epoch 7/25\n",
            "400/400 [==============================] - 45s 114ms/step - loss: 0.0605 - acc: 0.9777 - val_loss: 1.4024 - val_acc: 0.8580\n",
            "Epoch 8/25\n",
            "400/400 [==============================] - 44s 110ms/step - loss: 0.0529 - acc: 0.9806 - val_loss: 0.6874 - val_acc: 0.9092\n",
            "Epoch 9/25\n",
            "400/400 [==============================] - 43s 109ms/step - loss: 0.0506 - acc: 0.9811 - val_loss: 0.2997 - val_acc: 0.9455\n",
            "Epoch 10/25\n",
            "400/400 [==============================] - 45s 114ms/step - loss: 0.0522 - acc: 0.9809 - val_loss: 0.4806 - val_acc: 0.9154\n",
            "Epoch 11/25\n",
            "400/400 [==============================] - 44s 109ms/step - loss: 0.0477 - acc: 0.9830 - val_loss: 0.4808 - val_acc: 0.9186\n",
            "Epoch 12/25\n",
            "400/400 [==============================] - 43s 108ms/step - loss: 0.0456 - acc: 0.9835 - val_loss: 0.3396 - val_acc: 0.9447\n",
            "Epoch 13/25\n",
            "400/400 [==============================] - 43s 108ms/step - loss: 0.0419 - acc: 0.9845 - val_loss: 0.0787 - val_acc: 0.9741\n",
            "Epoch 14/25\n",
            "400/400 [==============================] - 45s 113ms/step - loss: 0.0420 - acc: 0.9848 - val_loss: 0.4445 - val_acc: 0.9320\n",
            "Epoch 15/25\n",
            "400/400 [==============================] - 44s 111ms/step - loss: 0.0486 - acc: 0.9825 - val_loss: 0.1874 - val_acc: 0.9600\n",
            "Epoch 16/25\n",
            "400/400 [==============================] - 44s 109ms/step - loss: 0.0358 - acc: 0.9868 - val_loss: 0.4895 - val_acc: 0.9320\n",
            "Epoch 17/25\n",
            "400/400 [==============================] - 46s 115ms/step - loss: 0.0333 - acc: 0.9879 - val_loss: 0.1300 - val_acc: 0.9638\n",
            "Epoch 18/25\n",
            "400/400 [==============================] - 46s 114ms/step - loss: 0.0322 - acc: 0.9881 - val_loss: 0.0784 - val_acc: 0.9787\n",
            "Epoch 19/25\n",
            "400/400 [==============================] - 45s 112ms/step - loss: 0.0328 - acc: 0.9881 - val_loss: 0.0866 - val_acc: 0.9709\n",
            "Epoch 20/25\n",
            "400/400 [==============================] - 44s 111ms/step - loss: 0.0301 - acc: 0.9891 - val_loss: 0.1972 - val_acc: 0.9584\n",
            "Epoch 21/25\n",
            "400/400 [==============================] - 44s 109ms/step - loss: 0.0284 - acc: 0.9898 - val_loss: 0.1451 - val_acc: 0.9685\n",
            "Epoch 22/25\n",
            "400/400 [==============================] - 44s 109ms/step - loss: 0.0269 - acc: 0.9900 - val_loss: 0.0724 - val_acc: 0.9814\n",
            "Epoch 23/25\n",
            "400/400 [==============================] - 46s 114ms/step - loss: 0.0288 - acc: 0.9898 - val_loss: 0.2019 - val_acc: 0.9551\n",
            "Epoch 24/25\n",
            "400/400 [==============================] - 46s 114ms/step - loss: 0.0267 - acc: 0.9903 - val_loss: 0.3914 - val_acc: 0.9319\n",
            "Epoch 25/25\n",
            "400/400 [==============================] - 45s 111ms/step - loss: 0.0249 - acc: 0.9912 - val_loss: 0.1917 - val_acc: 0.9543\n"
          ],
          "name": "stdout"
        }
      ]
    },
    {
      "metadata": {
        "id": "bFgKQgQ08zZs",
        "colab_type": "code",
        "outputId": "a7355195-e1ec-4ba9-eae7-b77eabab66de",
        "colab": {
          "base_uri": "https://localhost:8080/",
          "height": 707
        }
      },
      "cell_type": "code",
      "source": [
        "acc = history.history['acc']\n",
        "val_acc = history.history['val_acc']\n",
        "loss = history.history['loss']\n",
        "val_loss = history.history['val_loss']\n",
        "epochs = range(1, len(acc) + 1)\n",
        "#Train and validation accuracy\n",
        "plt.plot(epochs, acc, 'b', label='Training accurarcy')\n",
        "plt.plot(epochs, val_acc, 'r', label='Validation accurarcy')\n",
        "plt.title('Training and Validation accurarcy')\n",
        "plt.legend()\n",
        "\n",
        "plt.figure()\n",
        "#Train and validation loss\n",
        "plt.plot(epochs, loss, 'b', label='Training loss')\n",
        "plt.plot(epochs, val_loss, 'r', label='Validation loss')\n",
        "plt.title('Training and Validation loss')\n",
        "plt.legend()\n",
        "plt.show()"
      ],
      "execution_count": 0,
      "outputs": [
        {
          "output_type": "display_data",
          "data": {
            "image/png": "[encoded data removed]",
            "text/plain": [
              "<Figure size 576x396 with 1 Axes>"
            ]
          },
          "metadata": {
            "tags": []
          }
        },
        {
          "output_type": "display_data",
          "data": {
            "image/png": "[encoded data removed]",
            "text/plain": [
              "<Figure size 576x396 with 1 Axes>"
            ]
          },
          "metadata": {
            "tags": []
          }
        }
      ]
    },
    {
      "metadata": {
        "id": "SZPKMV-5-OTW",
        "colab_type": "code",
        "outputId": "c5203c45-13ec-458b-db04-be18d4d868d5",
        "colab": {
          "base_uri": "https://localhost:8080/",
          "height": 70
        }
      },
      "cell_type": "code",
      "source": [
        "print(\"[INFO] Calculating model accuracy\")\n",
        "scores = model.evaluate(x_test, y_test)\n",
        "print(f\"Test Accuracy: {scores[1]*100}\")"
      ],
      "execution_count": 0,
      "outputs": [
        {
          "output_type": "stream",
          "text": [
            "[INFO] Calculating model accuracy\n",
            "3204/3204 [==============================] - 2s 520us/step\n",
            "Test Accuracy: 95.43383257665884\n"
          ],
          "name": "stdout"
        }
      ]
    },
    {
      "metadata": {
        "id": "XJj2jwuc-266",
        "colab_type": "code",
        "colab": {}
      },
      "cell_type": "code",
      "source": [
        "model.save('/content/drive/My Drive/Disease Detection/Processed/Train_model.h5') "
      ],
      "execution_count": 0,
      "outputs": []
    },
    {
      "metadata": {
        "id": "MoJFMN5s_gU-",
        "colab_type": "code",
        "colab": {}
      },
      "cell_type": "code",
      "source": [
        "\n",
        "model.load_weights('/content/drive/My Drive/Disease Detection/Processed/Train_model.h5')"
      ],
      "execution_count": 0,
      "outputs": []
    },
    {
      "metadata": {
        "id": "NVrX4ujsE_Qt",
        "colab_type": "code",
        "outputId": "46c25a5b-3997-4df3-fdac-1219e58b4bbc",
        "colab": {
          "base_uri": "https://localhost:8080/",
          "height": 87
        }
      },
      "cell_type": "code",
      "source": [
        "# Evaluation\n",
        "score = model.evaluate(x_test, y_test, verbose=0, batch_size = 38)\n",
        "print('Test loss:', score[0])\n",
        "print('Test accuracy:', score[1])\n",
        "Predicted_classes = model.predict_classes(x_test)\n",
        "wrong_preds = x_test[Predicted_classes != np.argmax(y_test)]\n",
        "set(Predicted_classes)\n",
        "i = 4\n",
        "pred = model.predict_classes(np.array([wrong_preds[i]]))[0]\n",
        "act = np.argmax(y_test[i])\n",
        "print(\"Predicted class: {}\".format(enc.classes_[pred]))\n",
        "print(\"Actual class: {}\".format(enc.classes_[act]))"
      ],
      "execution_count": 0,
      "outputs": [
        {
          "output_type": "stream",
          "text": [
            "Test loss: 0.19174411102255037\n",
            "Test accuracy: 0.9543383175439751\n",
            "Predicted class: Tomato_Late_blight\n",
            "Actual class: Tomato_Late_blight\n"
          ],
          "name": "stdout"
        }
      ]
    }
  ]
}